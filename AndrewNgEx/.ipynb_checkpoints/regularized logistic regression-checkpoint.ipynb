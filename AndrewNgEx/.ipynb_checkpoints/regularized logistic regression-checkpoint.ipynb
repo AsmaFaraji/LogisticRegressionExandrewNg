{
 "cells": [
  {
   "cell_type": "code",
   "execution_count": 87,
   "metadata": {
    "collapsed": true
   },
   "outputs": [],
   "source": [
    "import numpy as np\n",
    "from __future__ import division\n",
    "import matplotlib.pyplot as plt \n",
    "import scipy.optimize\n",
    "%matplotlib inline"
   ]
  },
  {
   "cell_type": "code",
   "execution_count": 26,
   "metadata": {},
   "outputs": [],
   "source": [
    "features = np.array([[1,0,0]]) #(m,n)\n",
    "label = np.array([[0]]) #(m,1)\n",
    "with open('ex2data2.txt', 'r+') as data:\n",
    "    for line in data:\n",
    "        quality_assurance = line.split(',')\n",
    "        acceptance = int(quality_assurance[-1])\n",
    "        quality_assurance = [1] + [float(measure) for measure in quality_assurance[:-1]]\n",
    "        features = np.append(features, np.array([quality_assurance]), axis=0)\n",
    "        label = np.append(label,np.array([[acceptance]]),axis=0)\n",
    "        "
   ]
  },
  {
   "cell_type": "code",
   "execution_count": 27,
   "metadata": {},
   "outputs": [
    {
     "name": "stdout",
     "output_type": "stream",
     "text": [
      "0.225518637191\n",
      "[[ 0.22551864]\n",
      " [ 0.92886938]\n",
      " [ 0.9826975 ]]\n"
     ]
    }
   ],
   "source": [
    "theta  = np.random.random((3,1))\n",
    "print theta[0][0]\n",
    "print theta"
   ]
  },
  {
   "cell_type": "code",
   "execution_count": 72,
   "metadata": {
    "collapsed": true
   },
   "outputs": [],
   "source": [
    "def sigmoid(z):\n",
    "    return 1. / (1. + np.exp(-1 * z))"
   ]
  },
  {
   "cell_type": "code",
   "execution_count": 73,
   "metadata": {},
   "outputs": [],
   "source": [
    "def h_of_theta(theta,X):\n",
    "    return sigmoid(np.dot(X,theta)) #a = sigmiod(z)"
   ]
  },
  {
   "cell_type": "code",
   "execution_count": 92,
   "metadata": {
    "collapsed": true
   },
   "outputs": [],
   "source": [
    "def gradient(theta, X, y,lamda):\n",
    "    m = X.shape[0]\n",
    "    pred = h_of_theta(theta,X)\n",
    "    derivate_of_z = pred - y\n",
    "    derivate_of_regularization_term = lamda * theta / m\n",
    "    derivate_of_theta = np.sum(np.dot(X.transpose(),derivate_of_z)) / m +  derivate_of_regularization_term\n",
    "    #derivate_of_theta[0][0] -= derivate_of_regularization_term[0][0]\n",
    "    return np.ndarray.flatten( derivate_of_theta)"
   ]
  },
  {
   "cell_type": "code",
   "execution_count": 94,
   "metadata": {},
   "outputs": [],
   "source": [
    "def cost_function(theta,X,y,lamda):\n",
    "    m = X.shape[0]\n",
    "    h_theta = h_of_theta(theta,X)\n",
    "    tol = 0.000000000000000000000001\n",
    "    h_theta[h_theta < tol] = tol\n",
    "    h_theta[(h_theta < 1 + tol ) & (h_theta > 1 - tol)] = 1 - tol\n",
    "    regularization_term = np.sum(float(lamda) / 2 * theta ** 2)\n",
    "    #print \"h_theta: \", h_theta\n",
    "    #print \"1 - h_tetha: \" , 1 - h_theta\n",
    "    cost_vector = y * np.log(h_theta + tol) + (1 - y) * np.log(1 - h_theta + tol)\n",
    "    \n",
    "    return (-1 * np.sum(cost_vector) + regularization_term) / m "
   ]
  },
  {
   "cell_type": "code",
   "execution_count": 95,
   "metadata": {},
   "outputs": [
    {
     "name": "stdout",
     "output_type": "stream",
     "text": [
      "0.793276692816\n"
     ]
    }
   ],
   "source": [
    "h_of_theta(theta,features)\n",
    "gradient(theta, features, label, 1)\n",
    "print cost_function(theta, features, label, 1)\n"
   ]
  },
  {
   "cell_type": "code",
   "execution_count": 97,
   "metadata": {},
   "outputs": [
    {
     "name": "stdout",
     "output_type": "stream",
     "text": [
      "Warning: Desired error not necessarily achieved due to precision loss.\n",
      "         Current function value: 83.875522\n",
      "         Iterations: 13\n",
      "         Function evaluations: 61\n",
      "         Gradient evaluations: 49\n"
     ]
    },
    {
     "data": {
      "text/plain": [
       "array([-0.2124355 ,  0.4369155 ,  0.48661096])"
      ]
     },
     "execution_count": 97,
     "metadata": {},
     "output_type": "execute_result"
    }
   ],
   "source": [
    "import scipy \n",
    "myargs = (features, label, 1)\n",
    "result = scipy.optimize.fmin_bfgs(cost_function,theta,args=myargs,fprime=gradient)\n",
    "result"
   ]
  },
  {
   "cell_type": "code",
   "execution_count": 113,
   "metadata": {},
   "outputs": [],
   "source": [
    "def new_feature(X, X1, X2,degree):\n",
    "    \n",
    "    num_feature = int((degree + 1) * (degree + 2) / 2)\n",
    "    new_features = np.empty(shape=(X.shape[0],num_feature ))\n",
    "    k = 0\n",
    "    for i in range(0,7):\n",
    "        for j in range(0,i + 1):\n",
    "            new_features[:,k] = (X1 ** j) * (X2 ** i-j)\n",
    "            k += 1\n",
    "        \n",
    "    return new_features    "
   ]
  },
  {
   "cell_type": "code",
   "execution_count": 114,
   "metadata": {},
   "outputs": [],
   "source": [
    "X = new_feature(features[1:, 1:], features[1:,1], features[1:,2],6)"
   ]
  },
  {
   "cell_type": "code",
   "execution_count": 115,
   "metadata": {},
   "outputs": [
    {
     "data": {
      "text/plain": [
       "(118, 28)"
      ]
     },
     "execution_count": 115,
     "metadata": {},
     "output_type": "execute_result"
    }
   ],
   "source": [
    "X.shape\n"
   ]
  },
  {
   "cell_type": "code",
   "execution_count": null,
   "metadata": {
    "collapsed": true
   },
   "outputs": [],
   "source": []
  },
  {
   "cell_type": "code",
   "execution_count": null,
   "metadata": {
    "collapsed": true
   },
   "outputs": [],
   "source": []
  },
  {
   "cell_type": "code",
   "execution_count": null,
   "metadata": {
    "collapsed": true
   },
   "outputs": [],
   "source": []
  },
  {
   "cell_type": "code",
   "execution_count": null,
   "metadata": {
    "collapsed": true
   },
   "outputs": [],
   "source": []
  },
  {
   "cell_type": "code",
   "execution_count": null,
   "metadata": {
    "collapsed": true
   },
   "outputs": [],
   "source": []
  },
  {
   "cell_type": "code",
   "execution_count": null,
   "metadata": {
    "collapsed": true
   },
   "outputs": [],
   "source": []
  }
 ],
 "metadata": {
  "kernelspec": {
   "display_name": "Python 2",
   "language": "python",
   "name": "python2"
  },
  "language_info": {
   "codemirror_mode": {
    "name": "ipython",
    "version": 2
   },
   "file_extension": ".py",
   "mimetype": "text/x-python",
   "name": "python",
   "nbconvert_exporter": "python",
   "pygments_lexer": "ipython2",
   "version": "2.7.14"
  }
 },
 "nbformat": 4,
 "nbformat_minor": 2
}
